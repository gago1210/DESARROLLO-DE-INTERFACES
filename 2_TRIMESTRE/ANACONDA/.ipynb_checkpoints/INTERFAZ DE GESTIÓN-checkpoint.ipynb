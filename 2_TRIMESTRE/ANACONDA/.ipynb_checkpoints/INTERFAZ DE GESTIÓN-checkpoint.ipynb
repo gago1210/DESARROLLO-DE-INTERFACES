{
 "cells": [
  {
   "cell_type": "code",
   "execution_count": null,
   "id": "1497991a-60b1-4d7d-91c6-2d3ca0480c57",
   "metadata": {},
   "outputs": [],
   "source": [
    "from tkinter import* #importamos la libreria\n",
    "\n",
    "root = Tk() #hacemos el objeto tk para la base de la interfaz\n",
    "root.title(\"Datos empleados\")\n",
    "root.resizable(1,1)\n",
    "root.config(bd=20) #espacio entre el borde de la ventana y el contenido\n",
    "\n",
    "Label(root, text=\"Nombre\").grid(column=0, row=1, padx=15, pady=5)\n",
    "Label(root, text=\"Dirección\").grid(column=0, row=2, padx=15, pady=5) \n",
    "Entry(root).grid(column=1, row=1)\n",
    "Entry(root).grid(column=2, row=2)\n",
    "\n",
    "Label(root, text=\"Apellidos\").grid(column=2, row=1, padx=15, pady=5)\n",
    "Label(root, text=\"Código Postal\").grid(column=2, row=2, padx=15, pady=5) \n",
    "Label(root, text=\"Ciudad\").grid(column=4, row=2, padx=15, pady=5)\n",
    "Entry(root).grid(column=3, row=1, columnspan=3, pady=5, sticky=EW)\n",
    "Entry(root).grid(column=3, row=2)\n",
    "Entry(root).grid(column=5, row=2)\n",
    "   \n",
    "Label (root, text=\" \").grid(column=0, row=4)\n",
    "\n",
    "Label(root, text=\"Departamento\", justify=E).grid(column=0, row=5, padx=15, pady=5)\n",
    "Label(root, text=\"Centro Trabajo\").grid(column=0, row=6, padx=15, pady=5) \n",
    "Entry(root).grid(column=1, row=5, columnspan=5, pady=5, sticky=EW)\n",
    "Entry(root).grid(column=1, row=6,columnspan=5, pady=5, sticky=EW)\n",
    "\n",
    "Label (root, text=\" \").grid(column=0, row=7)\n",
    "\n",
    "Button(root, text=\"Aceptar\").grid(column=0, row=8, columnspan=2, sticky=EW)\n",
    "Button(root, text=\"Eliminar\").grid(column=2, row=8, columnspan=2, sticky=EW)\n",
    "Button(root, text=\"Eliminar\").grid(column=5, row=8, columnspan=2, sticky=EW)\n",
    "\n",
    "root.mainloop()\n"
   ]
  },
  {
   "cell_type": "code",
   "execution_count": null,
   "id": "b2270ecc-e275-44c5-8331-b0e904c28934",
   "metadata": {},
   "outputs": [],
   "source": []
  },
  {
   "cell_type": "code",
   "execution_count": null,
   "id": "9840d3fb-1c0c-45c6-9266-e918d7ab2d5a",
   "metadata": {},
   "outputs": [],
   "source": []
  }
 ],
 "metadata": {
  "kernelspec": {
   "display_name": "Python 3 (ipykernel)",
   "language": "python",
   "name": "python3"
  },
  "language_info": {
   "codemirror_mode": {
    "name": "ipython",
    "version": 3
   },
   "file_extension": ".py",
   "mimetype": "text/x-python",
   "name": "python",
   "nbconvert_exporter": "python",
   "pygments_lexer": "ipython3",
   "version": "3.12.7"
  }
 },
 "nbformat": 4,
 "nbformat_minor": 5
}
