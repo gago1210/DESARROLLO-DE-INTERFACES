{
 "cells": [
  {
   "cell_type": "markdown",
   "id": "2f1524de-a5db-4b91-b366-0dee5f734b0e",
   "metadata": {},
   "source": [
    "CONEXION Y CRUD (SQlite)"
   ]
  },
  {
   "cell_type": "code",
   "execution_count": null,
   "id": "70b0834a-0692-452e-9834-ae1d332026bf",
   "metadata": {},
   "outputs": [],
   "source": [
    "# Importar el sgdb Sqlite3\n",
    "import sqlite3\n",
    "\n",
    "conexion = sqlite.connect('ejemplo.db')\n",
    "\n",
    "# Cerramos la conexión para crearla definitivamente y liberarla para poder gestionar los datos\n",
    "conexion.close()"
   ]
  },
  {
   "cell_type": "code",
   "execution_count": null,
   "id": "e1133232-6dd6-4ef2-9b47-ce4d68874024",
   "metadata": {},
   "outputs": [],
   "source": [
    "#CREACIÓN DE UNA TABLA\n",
    "import sqlite3\n",
    "\n",
    "conexion = sqlite3.connect('ejemplo.db')\n",
    "\n",
    "cursor = conexion.cursor()\n",
    "\n",
    "cursor.execute(\"CREATE TABLE USUARIOS (nombre varchar(30), edad int, email varchar(100))\")\n",
    "\n",
    "#Guardar los cambios de forma definitiva\n",
    "conexion.commit()\n",
    "\n",
    "conexion-close()"
   ]
  },
  {
   "cell_type": "code",
   "execution_count": null,
   "id": "708db689-d17f-449c-9afe-d4de2811c813",
   "metadata": {},
   "outputs": [],
   "source": [
    "#INSERTAR REGISTROS EN LA TABLA\n",
    "import sqlite3\n",
    "\n",
    "conexion = sqlite3.connect('ejemplo.db')\n",
    "cursor = conexion.cursor()\n",
    "\n",
    "cursor.execute(\"INSERT INTO USUARIOS VALUES ('Francisco',52, 'pago@gamil.com')\".)\n",
    "\n",
    "conexion.commit()\n",
    "conexion.close()"
   ]
  },
  {
   "cell_type": "code",
   "execution_count": null,
   "id": "74d8dd67-9188-44c0-b026-e8604391ede2",
   "metadata": {},
   "outputs": [],
   "source": [
    "#INSERTAR VARIOS REGISTROS CON executemany()\n",
    "import sqlite3\n",
    "\n",
    "conexion = sqlite3.connect('ejemplo.db')\n",
    "cursor = conexion.cursor()\n",
    "\n",
    "usuarios = [\n",
    "    ('Ana', 28, 'ana@gmail.com'),\n",
    "    ('Luis',25, 'luis@gmail.com'),\n",
    "    ('Juan', 30, 'juan@gmail,com')\n",
    "]\n",
    "\n",
    "# Hacemos el cursor con el método executemany() para insertar\n",
    "cursor.executemany(\"INSERT INTO USUARIOS VALUES (?,?,?)\", usuarios)\n",
    "\n",
    "conexion.commit()\n",
    "conexion.close()"
   ]
  },
  {
   "cell_type": "code",
   "execution_count": 1,
   "id": "522aa575-a497-40ca-8b3b-078d27c470ef",
   "metadata": {},
   "outputs": [
    {
     "ename": "OperationalError",
     "evalue": "no such table: USUARIOS",
     "output_type": "error",
     "traceback": [
      "\u001b[1;31m---------------------------------------------------------------------------\u001b[0m",
      "\u001b[1;31mOperationalError\u001b[0m                          Traceback (most recent call last)",
      "Cell \u001b[1;32mIn[1], line 7\u001b[0m\n\u001b[0;32m      4\u001b[0m conexion \u001b[38;5;241m=\u001b[39m sqlite3\u001b[38;5;241m.\u001b[39mconnect(\u001b[38;5;124m'\u001b[39m\u001b[38;5;124mejemplo.db\u001b[39m\u001b[38;5;124m'\u001b[39m)\n\u001b[0;32m      5\u001b[0m cursor \u001b[38;5;241m=\u001b[39m conexion\u001b[38;5;241m.\u001b[39mcursor()\n\u001b[1;32m----> 7\u001b[0m cursor\u001b[38;5;241m.\u001b[39mexecute(\u001b[38;5;124m\"\u001b[39m\u001b[38;5;124mSELECT * FROM USUARIOS\u001b[39m\u001b[38;5;124m\"\u001b[39m)\n\u001b[0;32m      8\u001b[0m \u001b[38;5;66;03m#print(cursor)\u001b[39;00m\n\u001b[0;32m      9\u001b[0m \n\u001b[0;32m     10\u001b[0m \u001b[38;5;66;03m#usuario = cursor.fetchone()\u001b[39;00m\n\u001b[0;32m     11\u001b[0m usuarios \u001b[38;5;241m=\u001b[39m cursor\u001b[38;5;241m.\u001b[39mfetchall()\n",
      "\u001b[1;31mOperationalError\u001b[0m: no such table: USUARIOS"
     ]
    }
   ],
   "source": [
    "#LECTURA DE REGISTROS EN LA TABLA\n",
    "import sqlite3\n",
    "\n",
    "conexion = sqlite3.connect('ejemplo.db')\n",
    "cursor = conexion.cursor()\n",
    "\n",
    "cursor.execute(\"SELECT * FROM USUARIOS\")\n",
    "#print(cursor)\n",
    "\n",
    "usuario = cursor.fetchone()\n",
    "usuarios = cursor.fetchall()\n",
    "\n",
    "for usuario in usuarios:\n",
    "    print(usuario)\n",
    "\n",
    "conexion.close()"
   ]
  },
  {
   "cell_type": "code",
   "execution_count": 1,
   "id": "516786b7-6738-4962-86b1-fee754564244",
   "metadata": {},
   "outputs": [
    {
     "ename": "OperationalError",
     "evalue": "no such table: USUARIOS",
     "output_type": "error",
     "traceback": [
      "\u001b[1;31m---------------------------------------------------------------------------\u001b[0m",
      "\u001b[1;31mOperationalError\u001b[0m                          Traceback (most recent call last)",
      "Cell \u001b[1;32mIn[1], line 7\u001b[0m\n\u001b[0;32m      4\u001b[0m conexion \u001b[38;5;241m=\u001b[39m sqlite3\u001b[38;5;241m.\u001b[39mconnect(\u001b[38;5;124m'\u001b[39m\u001b[38;5;124mejemplo.db\u001b[39m\u001b[38;5;124m'\u001b[39m)\n\u001b[0;32m      5\u001b[0m cursor \u001b[38;5;241m=\u001b[39m conexion\u001b[38;5;241m.\u001b[39mcursor()\n\u001b[1;32m----> 7\u001b[0m cursor\u001b[38;5;241m.\u001b[39mexecute(\u001b[38;5;124m\"\u001b[39m\u001b[38;5;124mSELECT * FROM USUARIOS\u001b[39m\u001b[38;5;124m\"\u001b[39m)\n\u001b[0;32m      8\u001b[0m \u001b[38;5;66;03m#print(cursor)\u001b[39;00m\n\u001b[0;32m      9\u001b[0m \n\u001b[0;32m     10\u001b[0m \u001b[38;5;66;03m#usuario = cursor.fetchone()\u001b[39;00m\n\u001b[0;32m     11\u001b[0m usuarios \u001b[38;5;241m=\u001b[39m cursor\u001b[38;5;241m.\u001b[39mfetchall()\n",
      "\u001b[1;31mOperationalError\u001b[0m: no such table: USUARIOS"
     ]
    }
   ],
   "source": [
    "#LECTURA DE REGISTROS VARIOS\n",
    "import sqlite3\n",
    "\n",
    "conexion = sqlite3.connect('ejemplo.db')\n",
    "cursor = conexion.cursor()\n",
    "\n",
    "cursor.execute(\"SELECT * FROM USUARIOS WHERE nombre = 'Ana' \")\n",
    "#print(cursor)\n",
    "\n",
    "usuario = cursor.fetchone()\n",
    "    print(usuario)\n",
    "\n",
    "conexion.close()"
   ]
  },
  {
   "cell_type": "code",
   "execution_count": null,
   "id": "cda90c8e-3f61-4f1d-9da5-aaacad94e6a4",
   "metadata": {},
   "outputs": [],
   "source": []
  },
  {
   "cell_type": "code",
   "execution_count": 1,
   "id": "d6db1839-9175-4c38-99be-a4f6c2dd786b",
   "metadata": {},
   "outputs": [
    {
     "ename": "OperationalError",
     "evalue": "no such table: USUARIOS",
     "output_type": "error",
     "traceback": [
      "\u001b[1;31m---------------------------------------------------------------------------\u001b[0m",
      "\u001b[1;31mOperationalError\u001b[0m                          Traceback (most recent call last)",
      "Cell \u001b[1;32mIn[1], line 7\u001b[0m\n\u001b[0;32m      4\u001b[0m conexion \u001b[38;5;241m=\u001b[39m sqlite3\u001b[38;5;241m.\u001b[39mconnect(\u001b[38;5;124m'\u001b[39m\u001b[38;5;124mejemplo.db\u001b[39m\u001b[38;5;124m'\u001b[39m)\n\u001b[0;32m      5\u001b[0m cursor \u001b[38;5;241m=\u001b[39m conexion\u001b[38;5;241m.\u001b[39mcursor()\n\u001b[1;32m----> 7\u001b[0m cursor\u001b[38;5;241m.\u001b[39mexecute(\u001b[38;5;124m\"\u001b[39m\u001b[38;5;124mSELECT * FROM USUARIOS\u001b[39m\u001b[38;5;124m\"\u001b[39m)\n\u001b[0;32m      8\u001b[0m \u001b[38;5;66;03m#print(cursor)\u001b[39;00m\n\u001b[0;32m      9\u001b[0m \n\u001b[0;32m     10\u001b[0m \u001b[38;5;66;03m#usuario = cursor.fetchone()\u001b[39;00m\n\u001b[0;32m     11\u001b[0m usuarios \u001b[38;5;241m=\u001b[39m cursor\u001b[38;5;241m.\u001b[39mfetchall()\n",
      "\u001b[1;31mOperationalError\u001b[0m: no such table: USUARIOS"
     ]
    }
   ],
   "source": [
    "import sqlite3\n",
    "\n",
    "conexion = sqlite3.connect('ejemplo.db')\n",
    "cursor = conexion.cursor()\n",
    "\n",
    "cursor.execute(\"SELECT * FROM USUARIOS WHERE edad >= 30\")\n",
    "\n",
    "usuario = cursor.fetchall()\n",
    "    print(usuario)\n",
    "\n",
    "conexion.close()"
   ]
  },
  {
   "cell_type": "code",
   "execution_count": null,
   "id": "5ab892d4-81a0-4e7e-bfe4-0e3413ec4703",
   "metadata": {},
   "outputs": [],
   "source": [
    "#MODIFICACIÓN DE REGISTROS UPDATE\n",
    "import sqlite3\n",
    "\n",
    "conexion = sqlite3.connect('ejemplo.db')\n",
    "cursor = conexion.cursor()\n",
    "\n",
    "cursor.execute(\"UPDATE * USUARIOS SET nombre = 'Roberto' WHERE nombre = 'Roberto' \")\n",
    "\n",
    "#Realizamos una consulta para ver la actualización\n",
    "cursor.execute(\"SELECT * FROM USUARIOS\")\n",
    "\n",
    "usuario = cursor.fetchall()\n",
    "    print(usuario)\n",
    "\n",
    "conexion.close()"
   ]
  },
  {
   "cell_type": "code",
   "execution_count": null,
   "id": "15d9c5b1-286c-4937-a7b5-d751e4fdc0af",
   "metadata": {},
   "outputs": [],
   "source": [
    "#BORRADO DE DATOS\n",
    "import sqlite3\n",
    "\n",
    "conexion = sqlite3.connect('ejemplo.db')\n",
    "cursor = conexion.cursor()\n",
    "\n",
    "cursor.execute(\"DELETE FROM USUARIOS WHERE nombre = 'Roberto' \")\n",
    "\n",
    "#Realizamos una consulta para ver la actualización\n",
    "cursor.execute(\"SELECT * FROM USUARIOS\")\n",
    "usuarios = cursor.fetchall()\n",
    "print(usuarios)\n",
    "\n",
    "conexion.commit()\n",
    "conexion.close()\n"
   ]
  }
 ],
 "metadata": {
  "kernelspec": {
   "display_name": "Python [conda env:base] *",
   "language": "python",
   "name": "conda-base-py"
  },
  "language_info": {
   "codemirror_mode": {
    "name": "ipython",
    "version": 3
   },
   "file_extension": ".py",
   "mimetype": "text/x-python",
   "name": "python",
   "nbconvert_exporter": "python",
   "pygments_lexer": "ipython3",
   "version": "3.12.7"
  }
 },
 "nbformat": 4,
 "nbformat_minor": 5
}
